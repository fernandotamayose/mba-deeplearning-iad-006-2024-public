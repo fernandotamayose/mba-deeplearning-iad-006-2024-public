{
  "cells": [
    {
      "cell_type": "code",
      "execution_count": 1,
      "metadata": {
        "id": "EYK9wjuN0jIY"
      },
      "outputs": [
        {
          "ename": "ModuleNotFoundError",
          "evalue": "No module named 'ipywidgets'",
          "output_type": "error",
          "traceback": [
            "\u001b[0;31m---------------------------------------------------------------------------\u001b[0m",
            "\u001b[0;31mModuleNotFoundError\u001b[0m                       Traceback (most recent call last)",
            "Cell \u001b[0;32mIn[1], line 4\u001b[0m\n\u001b[1;32m      2\u001b[0m \u001b[38;5;28;01mfrom\u001b[39;00m \u001b[38;5;21;01mPIL\u001b[39;00m \u001b[38;5;28;01mimport\u001b[39;00m Image\n\u001b[1;32m      3\u001b[0m \u001b[38;5;28;01mimport\u001b[39;00m \u001b[38;5;21;01mio\u001b[39;00m\n\u001b[0;32m----> 4\u001b[0m \u001b[38;5;28;01mimport\u001b[39;00m \u001b[38;5;21;01mipywidgets\u001b[39;00m \u001b[38;5;28;01mas\u001b[39;00m \u001b[38;5;21;01mwidgets\u001b[39;00m\n\u001b[1;32m      5\u001b[0m \u001b[38;5;28;01mfrom\u001b[39;00m \u001b[38;5;21;01mIPython\u001b[39;00m\u001b[38;5;21;01m.\u001b[39;00m\u001b[38;5;21;01mdisplay\u001b[39;00m \u001b[38;5;28;01mimport\u001b[39;00m display\n\u001b[1;32m      6\u001b[0m \u001b[38;5;28;01mfrom\u001b[39;00m \u001b[38;5;21;01mtkinter\u001b[39;00m \u001b[38;5;28;01mimport\u001b[39;00m Tk\n",
            "\u001b[0;31mModuleNotFoundError\u001b[0m: No module named 'ipywidgets'"
          ]
        }
      ],
      "source": [
        "import requests\n",
        "from PIL import Image\n",
        "import io\n",
        "import ipywidgets as widgets\n",
        "from IPython.display import display\n",
        "from tkinter import Tk\n",
        "from tkinter.filedialog import askopenfilename"
      ]
    },
    {
      "cell_type": "code",
      "execution_count": 8,
      "metadata": {
        "id": "avs7G0_g0sw4"
      },
      "outputs": [],
      "source": [
        "# URL do servidor onde a API está rodando\n",
        "url = \"https://humble-pancake-vj4xxrj54453xx44-8000.app.github.dev/predict\""
      ]
    },
    {
      "cell_type": "code",
      "execution_count": 9,
      "metadata": {
        "colab": {
          "base_uri": "https://localhost:8080/",
          "height": 101,
          "referenced_widgets": [
            "009d31d58e58452a84594979dfee04f5",
            "60efde57fb03486486c5e6ccf0cb1a8f",
            "52444d037b364a98aa9942a1b76a54bc"
          ]
        },
        "id": "TsmdrpZf08ZL",
        "outputId": "2da6c3e8-4893-4dd4-b97f-f9a8b5f8e836"
      },
      "outputs": [
        {
          "data": {
            "application/vnd.jupyter.widget-view+json": {
              "model_id": "009d31d58e58452a84594979dfee04f5",
              "version_major": 2,
              "version_minor": 0
            },
            "text/plain": [
              "FileUpload(value={}, accept='image/*', description='Upload')"
            ]
          },
          "metadata": {},
          "output_type": "display_data"
        },
        {
          "name": "stdout",
          "output_type": "stream",
          "text": [
            "Status Code: 200\n",
            "Response Content: {\"prediction\":7.0}\n",
            "{'prediction': 7.0}\n"
          ]
        }
      ],
      "source": [
        "# Criar o seletor de arquivo\n",
        "uploader = widgets.FileUpload(\n",
        "    accept='image/*',  # aceita apenas arquivos de imagem\n",
        "    multiple=False  # não permite múltiplos arquivos\n",
        ")\n",
        "\n",
        "display(uploader)\n",
        "\n",
        "def on_upload_change(change):\n",
        "    if uploader.value:\n",
        "        # Pegar o arquivo selecionado\n",
        "        uploaded_file = next(iter(uploader.value.values()))\n",
        "        file_name = uploaded_file['metadata']['name']\n",
        "        content = uploaded_file['content']\n",
        "\n",
        "        # Fazer a solicitação POST ao endpoint\n",
        "        files = {'file': (file_name, content, 'image/jpeg')}\n",
        "        response = requests.post(url, files=files)\n",
        "\n",
        "        # Verificar o status da resposta\n",
        "        print(f\"Status Code: {response.status_code}\")\n",
        "        print(f\"Response Content: {response.text}\")\n",
        "\n",
        "        # Tentar fazer o parse do JSON somente se a resposta for bem-sucedida\n",
        "        if response.status_code == 200:\n",
        "            try:\n",
        "                print(response.json())\n",
        "            except ValueError as e:\n",
        "                print(\"Erro ao decodificar JSON:\", e)\n",
        "        else:\n",
        "            print(\"Falha na solicitação. Verifique o servidor ou os dados enviados.\")\n",
        "\n",
        "uploader.observe(on_upload_change, names='_counter')"
      ]
    }
  ],
  "metadata": {
    "colab": {
      "provenance": []
    },
    "kernelspec": {
      "display_name": "Python 3",
      "name": "python3"
    },
    "language_info": {
      "codemirror_mode": {
        "name": "ipython",
        "version": 3
      },
      "file_extension": ".py",
      "mimetype": "text/x-python",
      "name": "python",
      "nbconvert_exporter": "python",
      "pygments_lexer": "ipython3",
      "version": "3.10.13"
    },
    "widgets": {
      "application/vnd.jupyter.widget-state+json": {
        "009d31d58e58452a84594979dfee04f5": {
          "model_module": "@jupyter-widgets/controls",
          "model_module_version": "1.5.0",
          "model_name": "FileUploadModel",
          "state": {
            "_counter": 1,
            "_dom_classes": [],
            "_model_module": "@jupyter-widgets/controls",
            "_model_module_version": "1.5.0",
            "_model_name": "FileUploadModel",
            "_view_count": null,
            "_view_module": "@jupyter-widgets/controls",
            "_view_module_version": "1.5.0",
            "_view_name": "FileUploadView",
            "accept": "image/*",
            "button_style": "",
            "data": [
              null
            ],
            "description": "Upload",
            "description_tooltip": null,
            "disabled": false,
            "error": "",
            "icon": "upload",
            "layout": "IPY_MODEL_60efde57fb03486486c5e6ccf0cb1a8f",
            "metadata": [
              {
                "lastModified": 1724018095519,
                "name": "numero1.jpg",
                "size": 3720,
                "type": "image/jpeg"
              }
            ],
            "multiple": false,
            "style": "IPY_MODEL_52444d037b364a98aa9942a1b76a54bc"
          }
        },
        "52444d037b364a98aa9942a1b76a54bc": {
          "model_module": "@jupyter-widgets/controls",
          "model_module_version": "1.5.0",
          "model_name": "ButtonStyleModel",
          "state": {
            "_model_module": "@jupyter-widgets/controls",
            "_model_module_version": "1.5.0",
            "_model_name": "ButtonStyleModel",
            "_view_count": null,
            "_view_module": "@jupyter-widgets/base",
            "_view_module_version": "1.2.0",
            "_view_name": "StyleView",
            "button_color": null,
            "font_weight": ""
          }
        },
        "60efde57fb03486486c5e6ccf0cb1a8f": {
          "model_module": "@jupyter-widgets/base",
          "model_module_version": "1.2.0",
          "model_name": "LayoutModel",
          "state": {
            "_model_module": "@jupyter-widgets/base",
            "_model_module_version": "1.2.0",
            "_model_name": "LayoutModel",
            "_view_count": null,
            "_view_module": "@jupyter-widgets/base",
            "_view_module_version": "1.2.0",
            "_view_name": "LayoutView",
            "align_content": null,
            "align_items": null,
            "align_self": null,
            "border": null,
            "bottom": null,
            "display": null,
            "flex": null,
            "flex_flow": null,
            "grid_area": null,
            "grid_auto_columns": null,
            "grid_auto_flow": null,
            "grid_auto_rows": null,
            "grid_column": null,
            "grid_gap": null,
            "grid_row": null,
            "grid_template_areas": null,
            "grid_template_columns": null,
            "grid_template_rows": null,
            "height": null,
            "justify_content": null,
            "justify_items": null,
            "left": null,
            "margin": null,
            "max_height": null,
            "max_width": null,
            "min_height": null,
            "min_width": null,
            "object_fit": null,
            "object_position": null,
            "order": null,
            "overflow": null,
            "overflow_x": null,
            "overflow_y": null,
            "padding": null,
            "right": null,
            "top": null,
            "visibility": null,
            "width": null
          }
        }
      }
    }
  },
  "nbformat": 4,
  "nbformat_minor": 0
}
